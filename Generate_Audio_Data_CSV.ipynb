{
 "cells": [
  {
   "cell_type": "code",
   "execution_count": 1,
   "metadata": {},
   "outputs": [
    {
     "name": "stderr",
     "output_type": "stream",
     "text": [
      "Using TensorFlow backend.\n"
     ]
    }
   ],
   "source": [
    "import librosa\n",
    "import pandas as pd\n",
    "import numpy as np\n",
    "import matplotlib.pyplot as plt\n",
    "%matplotlib inline\n",
    "import os\n",
    "import csv\n",
    "# Preprocessing\n",
    "from sklearn.model_selection import train_test_split\n",
    "from sklearn.preprocessing import LabelEncoder, StandardScaler\n",
    "#Keras\n",
    "import keras\n",
    "from keras import models\n",
    "from keras import layers"
   ]
  },
  {
   "cell_type": "code",
   "execution_count": 2,
   "metadata": {},
   "outputs": [],
   "source": [
    "# generating a dataset\n",
    "header = 'filename'\n",
    "for i in range(1, 13):\n",
    "    header += f' chroma_sftf{i}'\n",
    "for i in range(1, 11):\n",
    "    header += f' rmse{i}'\n",
    "for i in range(1, 11):\n",
    "    header += f' spectral_centroid{i}'\n",
    "for i in range(1, 11):\n",
    "    header += f' spectral_bandwidth{i}'\n",
    "for i in range(1, 11):\n",
    "    header += f' rolloff{i}'\n",
    "for i in range(1, 11):\n",
    "    header += f' zero_crossing_rate{i}'\n",
    "for i in range(1, 21):\n",
    "    header += f' mfcc{i}'\n",
    "header += ' label'\n",
    "header = header.split()"
   ]
  },
  {
   "cell_type": "code",
   "execution_count": 3,
   "metadata": {},
   "outputs": [],
   "source": [
    "file = open('../audio_data.csv', 'w', newline='')\n",
    "with file:\n",
    "    writer = csv.writer(file)\n",
    "    writer.writerow(header)"
   ]
  },
  {
   "cell_type": "code",
   "execution_count": 4,
   "metadata": {
    "scrolled": true
   },
   "outputs": [
    {
     "name": "stderr",
     "output_type": "stream",
     "text": [
      "/home/anil/anaconda3/lib/python3.6/site-packages/numpy/core/fromnumeric.py:3118: RuntimeWarning: Mean of empty slice.\n",
      "  out=out, **kwargs)\n",
      "/home/anil/anaconda3/lib/python3.6/site-packages/numpy/core/_methods.py:85: RuntimeWarning: invalid value encountered in true_divide\n",
      "  ret = ret.dtype.type(ret / rcount)\n",
      "/home/anil/anaconda3/lib/python3.6/site-packages/numpy/core/_methods.py:85: RuntimeWarning: invalid value encountered in double_scalars\n",
      "  ret = ret.dtype.type(ret / rcount)\n"
     ]
    }
   ],
   "source": [
    "%%time\n",
    "genres = 'blues classical country disco hiphop jazz metal pop reggae rock'.split()\n",
    "#genres = 'classical hiphop'.split()\n",
    "for g in genres:\n",
    "    for filename in os.listdir(f'../genres/{g}'):\n",
    "        songname = f'../genres/{g}/{filename}'\n",
    "        y, sr = librosa.load(songname, mono=True, duration=None)\n",
    "        chroma_stft = librosa.feature.chroma_stft(y=y, sr=sr)\n",
    "        rmse = librosa.feature.rmse(y=y)\n",
    "        spec_cent = librosa.feature.spectral_centroid(y=y, sr=sr)\n",
    "        spec_bw = librosa.feature.spectral_bandwidth(y=y, sr=sr)\n",
    "        rolloff = librosa.feature.spectral_rolloff(y=y, sr=sr)\n",
    "        zcr = librosa.feature.zero_crossing_rate(y)\n",
    "        mfcc = librosa.feature.mfcc(y=y, sr=sr)\n",
    "        #to_append = f'{filename} {np.mean(chroma_stft)} {np.mean(rmse)} {np.mean(spec_cent)} {np.mean(spec_bw)} {np.mean(rolloff)} {np.mean(zcr)}'    \n",
    "        to_append = f'{filename}'\n",
    "        for chroma_stft_each in chroma_stft:\n",
    "            to_append += f' {np.mean(chroma_stft_each)}'\n",
    "            \n",
    "        getExtraValues = len(rmse[0])%10\n",
    "        \n",
    "        rmse_modified = rmse[0][:-getExtraValues]\n",
    "        rmse_split_array = np.split(rmse_modified, 10)\n",
    "        for rmse_e in rmse_split_array:\n",
    "            to_append += f' {np.mean(rmse_e)}'\n",
    "            \n",
    "        spec_cent_modified = spec_cent[0][:-getExtraValues]\n",
    "        spec_cent_split_array = np.split(spec_cent_modified, 10)\n",
    "        for spec_cent_e in spec_cent_split_array:\n",
    "            to_append += f' {np.mean(spec_cent_e)}'\n",
    "        \n",
    "        spec_bw_modified = spec_bw[0][:-getExtraValues]\n",
    "        spec_bw_split_array = np.split(spec_bw_modified, 10)\n",
    "        for spec_bw_e in spec_bw_split_array:\n",
    "            to_append += f' {np.mean(spec_bw_e)}'\n",
    "         \n",
    "        rolloff_modified = rolloff[0][:-getExtraValues]\n",
    "        rolloff_split_array = np.split(rolloff_modified, 10)\n",
    "        for rolloff_e in rolloff_split_array:\n",
    "            to_append += f' {np.mean(rolloff_e)}'\n",
    "        \n",
    "        zcr_modified = zcr[0][:-getExtraValues]\n",
    "        zcr_split_array = np.split(zcr_modified, 10)\n",
    "        for zcr_e in zcr_split_array:\n",
    "            to_append += f' {np.mean(zcr_e)}'\n",
    "            \n",
    "        for e in mfcc:\n",
    "            to_append += f' {np.mean(e)}'\n",
    "        to_append += f' {g}'\n",
    "        file = open('../audio_data.csv', 'a', newline='')\n",
    "        with file:\n",
    "            writer = csv.writer(file)\n",
    "            writer.writerow(to_append.split())    "
   ]
  },
  {
   "cell_type": "code",
   "execution_count": null,
   "metadata": {},
   "outputs": [],
   "source": []
  }
 ],
 "metadata": {
  "kernelspec": {
   "display_name": "Python 3",
   "language": "python",
   "name": "python3"
  },
  "language_info": {
   "codemirror_mode": {
    "name": "ipython",
    "version": 3
   },
   "file_extension": ".py",
   "mimetype": "text/x-python",
   "name": "python",
   "nbconvert_exporter": "python",
   "pygments_lexer": "ipython3",
   "version": "3.6.8"
  }
 },
 "nbformat": 4,
 "nbformat_minor": 2
}
